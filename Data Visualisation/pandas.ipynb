{
  "cells": [
    {
      "cell_type": "code",
      "execution_count": null,
      "id": "initial_id",
      "metadata": {
        "ExecuteTime": {
          "end_time": "2024-03-22T05:22:05.369237800Z",
          "start_time": "2024-03-22T05:22:01.415586200Z"
        },
        "id": "initial_id"
      },
      "outputs": [],
      "source": [
        "#importing Libraries\n",
        "import pandas as pd\n",
        "from sklearn.preprocessing import LabelEncoder"
      ]
    },
    {
      "cell_type": "code",
      "execution_count": null,
      "id": "44e731970e534adb",
      "metadata": {
        "ExecuteTime": {
          "end_time": "2024-03-22T05:22:06.615450800Z",
          "start_time": "2024-03-22T05:22:05.374143900Z"
        },
        "jupyter": {
          "outputs_hidden": false
        },
        "id": "44e731970e534adb"
      },
      "outputs": [],
      "source": [
        "# Loading the dataset as a dataframe with erroneous column data types as str\n",
        "df = pd.read_csv('Projects/MarineEcosystem/global_bleaching_environmental.csv', dtype={13: str, 15: str, 24: str})\n",
        "df.replace(to_replace='nd', value=None, inplace=True)\n",
        "df.drop_duplicates(inplace=True)"
      ]
    },
    {
      "cell_type": "code",
      "execution_count": null,
      "id": "d2744940-ebaf-416a-ae31-0db76dd157a0",
      "metadata": {
        "id": "d2744940-ebaf-416a-ae31-0db76dd157a0",
        "outputId": "b887d221-2a11-4db5-ff24-37aec95f8eaf"
      },
      "outputs": [
        {
          "data": {
            "text/html": [
              "<div>\n",
              "<style scoped>\n",
              "    .dataframe tbody tr th:only-of-type {\n",
              "        vertical-align: middle;\n",
              "    }\n",
              "\n",
              "    .dataframe tbody tr th {\n",
              "        vertical-align: top;\n",
              "    }\n",
              "\n",
              "    .dataframe thead th {\n",
              "        text-align: right;\n",
              "    }\n",
              "</style>\n",
              "<table border=\"1\" class=\"dataframe\">\n",
              "  <thead>\n",
              "    <tr style=\"text-align: right;\">\n",
              "      <th></th>\n",
              "      <th>Site_ID</th>\n",
              "      <th>Sample_ID</th>\n",
              "      <th>Latitude_Degrees</th>\n",
              "      <th>Longitude_Degrees</th>\n",
              "      <th>Cyclone_Frequency</th>\n",
              "      <th>Date_Day</th>\n",
              "      <th>Date_Month</th>\n",
              "      <th>Date_Year</th>\n",
              "    </tr>\n",
              "  </thead>\n",
              "  <tbody>\n",
              "    <tr>\n",
              "      <th>count</th>\n",
              "      <td>4.136100e+04</td>\n",
              "      <td>4.136100e+04</td>\n",
              "      <td>41361.000000</td>\n",
              "      <td>41361.000000</td>\n",
              "      <td>41361.000000</td>\n",
              "      <td>41361.000000</td>\n",
              "      <td>41361.000000</td>\n",
              "      <td>41361.000000</td>\n",
              "    </tr>\n",
              "    <tr>\n",
              "      <th>mean</th>\n",
              "      <td>7.455816e+04</td>\n",
              "      <td>1.012880e+07</td>\n",
              "      <td>7.558085</td>\n",
              "      <td>34.966127</td>\n",
              "      <td>52.159650</td>\n",
              "      <td>16.037402</td>\n",
              "      <td>6.902686</td>\n",
              "      <td>2007.796765</td>\n",
              "    </tr>\n",
              "    <tr>\n",
              "      <th>std</th>\n",
              "      <td>2.520418e+05</td>\n",
              "      <td>1.373151e+06</td>\n",
              "      <td>15.732185</td>\n",
              "      <td>103.404598</td>\n",
              "      <td>7.589593</td>\n",
              "      <td>7.837400</td>\n",
              "      <td>2.875063</td>\n",
              "      <td>6.073043</td>\n",
              "    </tr>\n",
              "    <tr>\n",
              "      <th>min</th>\n",
              "      <td>1.000000e+00</td>\n",
              "      <td>9.623000e+03</td>\n",
              "      <td>-30.262500</td>\n",
              "      <td>-179.974300</td>\n",
              "      <td>18.310000</td>\n",
              "      <td>1.000000</td>\n",
              "      <td>1.000000</td>\n",
              "      <td>1980.000000</td>\n",
              "    </tr>\n",
              "    <tr>\n",
              "      <th>25%</th>\n",
              "      <td>3.502000e+03</td>\n",
              "      <td>1.031108e+07</td>\n",
              "      <td>-4.902500</td>\n",
              "      <td>-78.385600</td>\n",
              "      <td>47.940000</td>\n",
              "      <td>10.000000</td>\n",
              "      <td>5.000000</td>\n",
              "      <td>2003.000000</td>\n",
              "    </tr>\n",
              "    <tr>\n",
              "      <th>50%</th>\n",
              "      <td>5.925000e+03</td>\n",
              "      <td>1.031628e+07</td>\n",
              "      <td>10.776100</td>\n",
              "      <td>96.843300</td>\n",
              "      <td>50.920000</td>\n",
              "      <td>15.000000</td>\n",
              "      <td>7.000000</td>\n",
              "      <td>2007.000000</td>\n",
              "    </tr>\n",
              "    <tr>\n",
              "      <th>75%</th>\n",
              "      <td>8.368000e+03</td>\n",
              "      <td>1.032149e+07</td>\n",
              "      <td>20.050500</td>\n",
              "      <td>120.880400</td>\n",
              "      <td>55.730000</td>\n",
              "      <td>22.000000</td>\n",
              "      <td>9.000000</td>\n",
              "      <td>2013.000000</td>\n",
              "    </tr>\n",
              "    <tr>\n",
              "      <th>max</th>\n",
              "      <td>1.000060e+06</td>\n",
              "      <td>1.033171e+07</td>\n",
              "      <td>36.750000</td>\n",
              "      <td>179.964500</td>\n",
              "      <td>105.800000</td>\n",
              "      <td>31.000000</td>\n",
              "      <td>12.000000</td>\n",
              "      <td>2020.000000</td>\n",
              "    </tr>\n",
              "  </tbody>\n",
              "</table>\n",
              "</div>"
            ],
            "text/plain": [
              "            Site_ID     Sample_ID  Latitude_Degrees  Longitude_Degrees  \\\n",
              "count  4.136100e+04  4.136100e+04      41361.000000       41361.000000   \n",
              "mean   7.455816e+04  1.012880e+07          7.558085          34.966127   \n",
              "std    2.520418e+05  1.373151e+06         15.732185         103.404598   \n",
              "min    1.000000e+00  9.623000e+03        -30.262500        -179.974300   \n",
              "25%    3.502000e+03  1.031108e+07         -4.902500         -78.385600   \n",
              "50%    5.925000e+03  1.031628e+07         10.776100          96.843300   \n",
              "75%    8.368000e+03  1.032149e+07         20.050500         120.880400   \n",
              "max    1.000060e+06  1.033171e+07         36.750000         179.964500   \n",
              "\n",
              "       Cyclone_Frequency      Date_Day    Date_Month     Date_Year  \n",
              "count       41361.000000  41361.000000  41361.000000  41361.000000  \n",
              "mean           52.159650     16.037402      6.902686   2007.796765  \n",
              "std             7.589593      7.837400      2.875063      6.073043  \n",
              "min            18.310000      1.000000      1.000000   1980.000000  \n",
              "25%            47.940000     10.000000      5.000000   2003.000000  \n",
              "50%            50.920000     15.000000      7.000000   2007.000000  \n",
              "75%            55.730000     22.000000      9.000000   2013.000000  \n",
              "max           105.800000     31.000000     12.000000   2020.000000  "
            ]
          },
          "execution_count": 3,
          "metadata": {},
          "output_type": "execute_result"
        }
      ],
      "source": [
        "df.describe()"
      ]
    },
    {
      "cell_type": "code",
      "execution_count": null,
      "id": "86eaa4d0fca556a",
      "metadata": {
        "ExecuteTime": {
          "end_time": "2024-03-22T05:22:06.649962200Z",
          "start_time": "2024-03-22T05:22:06.603604600Z"
        },
        "jupyter": {
          "outputs_hidden": false
        },
        "id": "86eaa4d0fca556a",
        "outputId": "1690fb75-1457-4c73-a499-350afb9791c9"
      },
      "outputs": [
        {
          "data": {
            "text/plain": [
              "(41361, 62)"
            ]
          },
          "execution_count": 4,
          "metadata": {},
          "output_type": "execute_result"
        }
      ],
      "source": [
        "df.shape"
      ]
    },
    {
      "cell_type": "code",
      "execution_count": null,
      "id": "3d52540e-f29d-4c4c-974a-5c4c770412ca",
      "metadata": {
        "id": "3d52540e-f29d-4c4c-974a-5c4c770412ca",
        "outputId": "15aa5cd0-c3f9-4781-9adf-172eb4c9e253"
      },
      "outputs": [
        {
          "data": {
            "text/html": [
              "<div>\n",
              "<style scoped>\n",
              "    .dataframe tbody tr th:only-of-type {\n",
              "        vertical-align: middle;\n",
              "    }\n",
              "\n",
              "    .dataframe tbody tr th {\n",
              "        vertical-align: top;\n",
              "    }\n",
              "\n",
              "    .dataframe thead th {\n",
              "        text-align: right;\n",
              "    }\n",
              "</style>\n",
              "<table border=\"1\" class=\"dataframe\">\n",
              "  <thead>\n",
              "    <tr style=\"text-align: right;\">\n",
              "      <th></th>\n",
              "      <th>Site_ID</th>\n",
              "      <th>Sample_ID</th>\n",
              "      <th>Data_Source</th>\n",
              "      <th>Latitude_Degrees</th>\n",
              "      <th>Longitude_Degrees</th>\n",
              "      <th>Ocean_Name</th>\n",
              "      <th>Reef_ID</th>\n",
              "      <th>Realm_Name</th>\n",
              "      <th>Ecoregion_Name</th>\n",
              "      <th>Country_Name</th>\n",
              "      <th>...</th>\n",
              "      <th>TSA_FrequencyMax</th>\n",
              "      <th>TSA_FrequencyMean</th>\n",
              "      <th>TSA_DHW</th>\n",
              "      <th>TSA_DHW_Standard_Deviation</th>\n",
              "      <th>TSA_DHWMax</th>\n",
              "      <th>TSA_DHWMean</th>\n",
              "      <th>Date</th>\n",
              "      <th>Site_Comments</th>\n",
              "      <th>Sample_Comments</th>\n",
              "      <th>Bleaching_Comments</th>\n",
              "    </tr>\n",
              "  </thead>\n",
              "  <tbody>\n",
              "    <tr>\n",
              "      <th>0</th>\n",
              "      <td>2501</td>\n",
              "      <td>10324336</td>\n",
              "      <td>Donner</td>\n",
              "      <td>23.163</td>\n",
              "      <td>-82.5260</td>\n",
              "      <td>Atlantic</td>\n",
              "      <td>None</td>\n",
              "      <td>Tropical Atlantic</td>\n",
              "      <td>Cuba and Cayman Islands</td>\n",
              "      <td>Cuba</td>\n",
              "      <td>...</td>\n",
              "      <td>5</td>\n",
              "      <td>0</td>\n",
              "      <td>0</td>\n",
              "      <td>0.74</td>\n",
              "      <td>7.25</td>\n",
              "      <td>0.18</td>\n",
              "      <td>2005-09-15</td>\n",
              "      <td>None</td>\n",
              "      <td>None</td>\n",
              "      <td>None</td>\n",
              "    </tr>\n",
              "    <tr>\n",
              "      <th>1</th>\n",
              "      <td>3467</td>\n",
              "      <td>10324754</td>\n",
              "      <td>Donner</td>\n",
              "      <td>-17.575</td>\n",
              "      <td>-149.7833</td>\n",
              "      <td>Pacific</td>\n",
              "      <td>None</td>\n",
              "      <td>Eastern Indo-Pacific</td>\n",
              "      <td>Society Islands French Polynesia</td>\n",
              "      <td>French Polynesia</td>\n",
              "      <td>...</td>\n",
              "      <td>4</td>\n",
              "      <td>0</td>\n",
              "      <td>0.26</td>\n",
              "      <td>0.67</td>\n",
              "      <td>4.65</td>\n",
              "      <td>0.19</td>\n",
              "      <td>1991-03-15</td>\n",
              "      <td>The bleaching does not  appear to have gained ...</td>\n",
              "      <td>The bleaching does not  appear to have gained ...</td>\n",
              "      <td>None</td>\n",
              "    </tr>\n",
              "    <tr>\n",
              "      <th>2</th>\n",
              "      <td>1794</td>\n",
              "      <td>10323866</td>\n",
              "      <td>Donner</td>\n",
              "      <td>18.369</td>\n",
              "      <td>-64.5640</td>\n",
              "      <td>Atlantic</td>\n",
              "      <td>None</td>\n",
              "      <td>Tropical Atlantic</td>\n",
              "      <td>Hispaniola Puerto Rico and Lesser Antilles</td>\n",
              "      <td>United Kingdom</td>\n",
              "      <td>...</td>\n",
              "      <td>7</td>\n",
              "      <td>0</td>\n",
              "      <td>0</td>\n",
              "      <td>1.04</td>\n",
              "      <td>11.66</td>\n",
              "      <td>0.26</td>\n",
              "      <td>2006-01-15</td>\n",
              "      <td>None</td>\n",
              "      <td>None</td>\n",
              "      <td>None</td>\n",
              "    </tr>\n",
              "    <tr>\n",
              "      <th>3</th>\n",
              "      <td>8647</td>\n",
              "      <td>10328028</td>\n",
              "      <td>Donner</td>\n",
              "      <td>17.760</td>\n",
              "      <td>-64.5680</td>\n",
              "      <td>Atlantic</td>\n",
              "      <td>None</td>\n",
              "      <td>Tropical Atlantic</td>\n",
              "      <td>Hispaniola Puerto Rico and Lesser Antilles</td>\n",
              "      <td>United States</td>\n",
              "      <td>...</td>\n",
              "      <td>4</td>\n",
              "      <td>0</td>\n",
              "      <td>0</td>\n",
              "      <td>0.75</td>\n",
              "      <td>5.64</td>\n",
              "      <td>0.2</td>\n",
              "      <td>2006-04-15</td>\n",
              "      <td>None</td>\n",
              "      <td>None</td>\n",
              "      <td>None</td>\n",
              "    </tr>\n",
              "    <tr>\n",
              "      <th>4</th>\n",
              "      <td>8648</td>\n",
              "      <td>10328029</td>\n",
              "      <td>Donner</td>\n",
              "      <td>17.769</td>\n",
              "      <td>-64.5830</td>\n",
              "      <td>Atlantic</td>\n",
              "      <td>None</td>\n",
              "      <td>Tropical Atlantic</td>\n",
              "      <td>Hispaniola Puerto Rico and Lesser Antilles</td>\n",
              "      <td>United States</td>\n",
              "      <td>...</td>\n",
              "      <td>5</td>\n",
              "      <td>0</td>\n",
              "      <td>0</td>\n",
              "      <td>0.92</td>\n",
              "      <td>6.89</td>\n",
              "      <td>0.25</td>\n",
              "      <td>2006-04-15</td>\n",
              "      <td>None</td>\n",
              "      <td>None</td>\n",
              "      <td>None</td>\n",
              "    </tr>\n",
              "  </tbody>\n",
              "</table>\n",
              "<p>5 rows × 62 columns</p>\n",
              "</div>"
            ],
            "text/plain": [
              "   Site_ID  Sample_ID Data_Source  Latitude_Degrees  Longitude_Degrees  \\\n",
              "0     2501   10324336      Donner            23.163           -82.5260   \n",
              "1     3467   10324754      Donner           -17.575          -149.7833   \n",
              "2     1794   10323866      Donner            18.369           -64.5640   \n",
              "3     8647   10328028      Donner            17.760           -64.5680   \n",
              "4     8648   10328029      Donner            17.769           -64.5830   \n",
              "\n",
              "  Ocean_Name Reef_ID            Realm_Name  \\\n",
              "0   Atlantic    None     Tropical Atlantic   \n",
              "1    Pacific    None  Eastern Indo-Pacific   \n",
              "2   Atlantic    None     Tropical Atlantic   \n",
              "3   Atlantic    None     Tropical Atlantic   \n",
              "4   Atlantic    None     Tropical Atlantic   \n",
              "\n",
              "                               Ecoregion_Name      Country_Name  ...  \\\n",
              "0                     Cuba and Cayman Islands              Cuba  ...   \n",
              "1            Society Islands French Polynesia  French Polynesia  ...   \n",
              "2  Hispaniola Puerto Rico and Lesser Antilles    United Kingdom  ...   \n",
              "3  Hispaniola Puerto Rico and Lesser Antilles     United States  ...   \n",
              "4  Hispaniola Puerto Rico and Lesser Antilles     United States  ...   \n",
              "\n",
              "  TSA_FrequencyMax TSA_FrequencyMean TSA_DHW TSA_DHW_Standard_Deviation  \\\n",
              "0                5                 0       0                       0.74   \n",
              "1                4                 0    0.26                       0.67   \n",
              "2                7                 0       0                       1.04   \n",
              "3                4                 0       0                       0.75   \n",
              "4                5                 0       0                       0.92   \n",
              "\n",
              "  TSA_DHWMax TSA_DHWMean        Date  \\\n",
              "0       7.25        0.18  2005-09-15   \n",
              "1       4.65        0.19  1991-03-15   \n",
              "2      11.66        0.26  2006-01-15   \n",
              "3       5.64         0.2  2006-04-15   \n",
              "4       6.89        0.25  2006-04-15   \n",
              "\n",
              "                                       Site_Comments  \\\n",
              "0                                               None   \n",
              "1  The bleaching does not  appear to have gained ...   \n",
              "2                                               None   \n",
              "3                                               None   \n",
              "4                                               None   \n",
              "\n",
              "                                     Sample_Comments  Bleaching_Comments  \n",
              "0                                               None                None  \n",
              "1  The bleaching does not  appear to have gained ...                None  \n",
              "2                                               None                None  \n",
              "3                                               None                None  \n",
              "4                                               None                None  \n",
              "\n",
              "[5 rows x 62 columns]"
            ]
          },
          "execution_count": 5,
          "metadata": {},
          "output_type": "execute_result"
        }
      ],
      "source": [
        "df.head()"
      ]
    },
    {
      "cell_type": "code",
      "execution_count": null,
      "id": "84356ec0-deaf-4427-a747-409b1e231280",
      "metadata": {
        "id": "84356ec0-deaf-4427-a747-409b1e231280",
        "outputId": "7dcec9ee-11bc-4647-b503-f641a3e9554a"
      },
      "outputs": [
        {
          "data": {
            "text/html": [
              "<div>\n",
              "<style scoped>\n",
              "    .dataframe tbody tr th:only-of-type {\n",
              "        vertical-align: middle;\n",
              "    }\n",
              "\n",
              "    .dataframe tbody tr th {\n",
              "        vertical-align: top;\n",
              "    }\n",
              "\n",
              "    .dataframe thead th {\n",
              "        text-align: right;\n",
              "    }\n",
              "</style>\n",
              "<table border=\"1\" class=\"dataframe\">\n",
              "  <thead>\n",
              "    <tr style=\"text-align: right;\">\n",
              "      <th></th>\n",
              "      <th>Site_ID</th>\n",
              "      <th>Sample_ID</th>\n",
              "      <th>Data_Source</th>\n",
              "      <th>Latitude_Degrees</th>\n",
              "      <th>Longitude_Degrees</th>\n",
              "      <th>Ocean_Name</th>\n",
              "      <th>Reef_ID</th>\n",
              "      <th>Realm_Name</th>\n",
              "      <th>Ecoregion_Name</th>\n",
              "      <th>Country_Name</th>\n",
              "      <th>...</th>\n",
              "      <th>TSA_FrequencyMax</th>\n",
              "      <th>TSA_FrequencyMean</th>\n",
              "      <th>TSA_DHW</th>\n",
              "      <th>TSA_DHW_Standard_Deviation</th>\n",
              "      <th>TSA_DHWMax</th>\n",
              "      <th>TSA_DHWMean</th>\n",
              "      <th>Date</th>\n",
              "      <th>Site_Comments</th>\n",
              "      <th>Sample_Comments</th>\n",
              "      <th>Bleaching_Comments</th>\n",
              "    </tr>\n",
              "  </thead>\n",
              "  <tbody>\n",
              "    <tr>\n",
              "      <th>41356</th>\n",
              "      <td>15446</td>\n",
              "      <td>10310562</td>\n",
              "      <td>Reef_Check</td>\n",
              "      <td>-8.3651</td>\n",
              "      <td>116.0844</td>\n",
              "      <td>Pacific</td>\n",
              "      <td>116.5.3.9E.8.21.54.4S</td>\n",
              "      <td>Central Indo-Pacific</td>\n",
              "      <td>Lesser Sunda Islands and Savu Sea</td>\n",
              "      <td>Indonesia</td>\n",
              "      <td>...</td>\n",
              "      <td>8</td>\n",
              "      <td>1</td>\n",
              "      <td>2.09</td>\n",
              "      <td>1.49</td>\n",
              "      <td>9</td>\n",
              "      <td>0.63</td>\n",
              "      <td>2019-05-28</td>\n",
              "      <td>None</td>\n",
              "      <td>None</td>\n",
              "      <td>None</td>\n",
              "    </tr>\n",
              "    <tr>\n",
              "      <th>41357</th>\n",
              "      <td>15456</td>\n",
              "      <td>10310527</td>\n",
              "      <td>Reef_Check</td>\n",
              "      <td>-8.3473</td>\n",
              "      <td>116.0503</td>\n",
              "      <td>Pacific</td>\n",
              "      <td>116.3.1.1E.8.20.50.2S</td>\n",
              "      <td>Central Indo-Pacific</td>\n",
              "      <td>Lesser Sunda Islands and Savu Sea</td>\n",
              "      <td>Indonesia</td>\n",
              "      <td>...</td>\n",
              "      <td>8</td>\n",
              "      <td>1</td>\n",
              "      <td>2</td>\n",
              "      <td>1.29</td>\n",
              "      <td>8.01</td>\n",
              "      <td>0.65</td>\n",
              "      <td>2019-05-16</td>\n",
              "      <td>None</td>\n",
              "      <td>None</td>\n",
              "      <td>None</td>\n",
              "    </tr>\n",
              "    <tr>\n",
              "      <th>41358</th>\n",
              "      <td>15456</td>\n",
              "      <td>10310527</td>\n",
              "      <td>Reef_Check</td>\n",
              "      <td>-8.3473</td>\n",
              "      <td>116.0503</td>\n",
              "      <td>Pacific</td>\n",
              "      <td>116.3.1.1E.8.20.50.2S</td>\n",
              "      <td>Central Indo-Pacific</td>\n",
              "      <td>Lesser Sunda Islands and Savu Sea</td>\n",
              "      <td>Indonesia</td>\n",
              "      <td>...</td>\n",
              "      <td>8</td>\n",
              "      <td>1</td>\n",
              "      <td>2</td>\n",
              "      <td>1.29</td>\n",
              "      <td>8.01</td>\n",
              "      <td>0.65</td>\n",
              "      <td>2019-05-16</td>\n",
              "      <td>None</td>\n",
              "      <td>None</td>\n",
              "      <td>None</td>\n",
              "    </tr>\n",
              "    <tr>\n",
              "      <th>41359</th>\n",
              "      <td>15457</td>\n",
              "      <td>10310536</td>\n",
              "      <td>Reef_Check</td>\n",
              "      <td>-8.3445</td>\n",
              "      <td>116.0629</td>\n",
              "      <td>Pacific</td>\n",
              "      <td>116.3.46.548E.8.20.40.236S</td>\n",
              "      <td>Central Indo-Pacific</td>\n",
              "      <td>Lesser Sunda Islands and Savu Sea</td>\n",
              "      <td>Indonesia</td>\n",
              "      <td>...</td>\n",
              "      <td>8</td>\n",
              "      <td>1</td>\n",
              "      <td>2</td>\n",
              "      <td>1.29</td>\n",
              "      <td>8.01</td>\n",
              "      <td>0.65</td>\n",
              "      <td>2019-05-29</td>\n",
              "      <td>None</td>\n",
              "      <td>None</td>\n",
              "      <td>None</td>\n",
              "    </tr>\n",
              "    <tr>\n",
              "      <th>41360</th>\n",
              "      <td>15457</td>\n",
              "      <td>10310536</td>\n",
              "      <td>Reef_Check</td>\n",
              "      <td>-8.3445</td>\n",
              "      <td>116.0629</td>\n",
              "      <td>Pacific</td>\n",
              "      <td>116.3.46.548E.8.20.40.236S</td>\n",
              "      <td>Central Indo-Pacific</td>\n",
              "      <td>Lesser Sunda Islands and Savu Sea</td>\n",
              "      <td>Indonesia</td>\n",
              "      <td>...</td>\n",
              "      <td>8</td>\n",
              "      <td>1</td>\n",
              "      <td>2</td>\n",
              "      <td>1.29</td>\n",
              "      <td>8.01</td>\n",
              "      <td>0.65</td>\n",
              "      <td>2019-05-29</td>\n",
              "      <td>None</td>\n",
              "      <td>None</td>\n",
              "      <td>None</td>\n",
              "    </tr>\n",
              "  </tbody>\n",
              "</table>\n",
              "<p>5 rows × 62 columns</p>\n",
              "</div>"
            ],
            "text/plain": [
              "       Site_ID  Sample_ID Data_Source  Latitude_Degrees  Longitude_Degrees  \\\n",
              "41356    15446   10310562  Reef_Check           -8.3651           116.0844   \n",
              "41357    15456   10310527  Reef_Check           -8.3473           116.0503   \n",
              "41358    15456   10310527  Reef_Check           -8.3473           116.0503   \n",
              "41359    15457   10310536  Reef_Check           -8.3445           116.0629   \n",
              "41360    15457   10310536  Reef_Check           -8.3445           116.0629   \n",
              "\n",
              "      Ocean_Name                     Reef_ID            Realm_Name  \\\n",
              "41356    Pacific       116.5.3.9E.8.21.54.4S  Central Indo-Pacific   \n",
              "41357    Pacific       116.3.1.1E.8.20.50.2S  Central Indo-Pacific   \n",
              "41358    Pacific       116.3.1.1E.8.20.50.2S  Central Indo-Pacific   \n",
              "41359    Pacific  116.3.46.548E.8.20.40.236S  Central Indo-Pacific   \n",
              "41360    Pacific  116.3.46.548E.8.20.40.236S  Central Indo-Pacific   \n",
              "\n",
              "                          Ecoregion_Name Country_Name  ... TSA_FrequencyMax  \\\n",
              "41356  Lesser Sunda Islands and Savu Sea    Indonesia  ...                8   \n",
              "41357  Lesser Sunda Islands and Savu Sea    Indonesia  ...                8   \n",
              "41358  Lesser Sunda Islands and Savu Sea    Indonesia  ...                8   \n",
              "41359  Lesser Sunda Islands and Savu Sea    Indonesia  ...                8   \n",
              "41360  Lesser Sunda Islands and Savu Sea    Indonesia  ...                8   \n",
              "\n",
              "      TSA_FrequencyMean TSA_DHW TSA_DHW_Standard_Deviation TSA_DHWMax  \\\n",
              "41356                 1    2.09                       1.49          9   \n",
              "41357                 1       2                       1.29       8.01   \n",
              "41358                 1       2                       1.29       8.01   \n",
              "41359                 1       2                       1.29       8.01   \n",
              "41360                 1       2                       1.29       8.01   \n",
              "\n",
              "      TSA_DHWMean        Date  Site_Comments  Sample_Comments  \\\n",
              "41356        0.63  2019-05-28           None             None   \n",
              "41357        0.65  2019-05-16           None             None   \n",
              "41358        0.65  2019-05-16           None             None   \n",
              "41359        0.65  2019-05-29           None             None   \n",
              "41360        0.65  2019-05-29           None             None   \n",
              "\n",
              "       Bleaching_Comments  \n",
              "41356                None  \n",
              "41357                None  \n",
              "41358                None  \n",
              "41359                None  \n",
              "41360                None  \n",
              "\n",
              "[5 rows x 62 columns]"
            ]
          },
          "execution_count": 6,
          "metadata": {},
          "output_type": "execute_result"
        }
      ],
      "source": [
        "df.tail()"
      ]
    },
    {
      "cell_type": "code",
      "execution_count": null,
      "id": "e830afe0-a531-4518-8b00-abeb331c1b26",
      "metadata": {
        "id": "e830afe0-a531-4518-8b00-abeb331c1b26",
        "outputId": "5e684ddc-e738-4371-90b9-3ff3b1a86b09"
      },
      "outputs": [
        {
          "name": "stdout",
          "output_type": "stream",
          "text": [
            "<class 'pandas.core.frame.DataFrame'>\n",
            "RangeIndex: 41361 entries, 0 to 41360\n",
            "Data columns (total 62 columns):\n",
            " #   Column                                 Non-Null Count  Dtype  \n",
            "---  ------                                 --------------  -----  \n",
            " 0   Site_ID                                41361 non-null  int64  \n",
            " 1   Sample_ID                              41361 non-null  int64  \n",
            " 2   Data_Source                            41361 non-null  object \n",
            " 3   Latitude_Degrees                       41361 non-null  float64\n",
            " 4   Longitude_Degrees                      41361 non-null  float64\n",
            " 5   Ocean_Name                             41361 non-null  object \n",
            " 6   Reef_ID                                28821 non-null  object \n",
            " 7   Realm_Name                             41361 non-null  object \n",
            " 8   Ecoregion_Name                         41358 non-null  object \n",
            " 9   Country_Name                           41360 non-null  object \n",
            " 10  State_Island_Province_Name             41262 non-null  object \n",
            " 11  City_Town_Name                         40228 non-null  object \n",
            " 12  Site_Name                              6932 non-null   object \n",
            " 13  Distance_to_Shore                      41359 non-null  object \n",
            " 14  Exposure                               41361 non-null  object \n",
            " 15  Turbidity                              41355 non-null  object \n",
            " 16  Cyclone_Frequency                      41361 non-null  float64\n",
            " 17  Date_Day                               41361 non-null  int64  \n",
            " 18  Date_Month                             41361 non-null  int64  \n",
            " 19  Date_Year                              41361 non-null  int64  \n",
            " 20  Depth_m                                39562 non-null  object \n",
            " 21  Substrate_Name                         28693 non-null  object \n",
            " 22  Percent_Cover                          28906 non-null  object \n",
            " 23  Bleaching_Level                        22531 non-null  object \n",
            " 24  Percent_Bleaching                      34515 non-null  object \n",
            " 25  ClimSST                                41248 non-null  object \n",
            " 26  Temperature_Kelvin                     41213 non-null  object \n",
            " 27  Temperature_Mean                       41229 non-null  object \n",
            " 28  Temperature_Minimum                    41229 non-null  object \n",
            " 29  Temperature_Maximum                    41229 non-null  object \n",
            " 30  Temperature_Kelvin_Standard_Deviation  41229 non-null  object \n",
            " 31  Windspeed                              41232 non-null  object \n",
            " 32  SSTA                                   41213 non-null  object \n",
            " 33  SSTA_Standard_Deviation                41229 non-null  object \n",
            " 34  SSTA_Mean                              41229 non-null  object \n",
            " 35  SSTA_Minimum                           41185 non-null  object \n",
            " 36  SSTA_Maximum                           41229 non-null  object \n",
            " 37  SSTA_Frequency                         41213 non-null  object \n",
            " 38  SSTA_Frequency_Standard_Deviation      41229 non-null  object \n",
            " 39  SSTA_FrequencyMax                      41229 non-null  object \n",
            " 40  SSTA_FrequencyMean                     41229 non-null  object \n",
            " 41  SSTA_DHW                               41213 non-null  object \n",
            " 42  SSTA_DHW_Standard_Deviation            41229 non-null  object \n",
            " 43  SSTA_DHWMax                            41229 non-null  object \n",
            " 44  SSTA_DHWMean                           41229 non-null  object \n",
            " 45  TSA                                    41213 non-null  object \n",
            " 46  TSA_Standard_Deviation                 41229 non-null  object \n",
            " 47  TSA_Minimum                            41229 non-null  object \n",
            " 48  TSA_Maximum                            41229 non-null  object \n",
            " 49  TSA_Mean                               41229 non-null  object \n",
            " 50  TSA_Frequency                          41213 non-null  object \n",
            " 51  TSA_Frequency_Standard_Deviation       41229 non-null  object \n",
            " 52  TSA_FrequencyMax                       41229 non-null  object \n",
            " 53  TSA_FrequencyMean                      41229 non-null  object \n",
            " 54  TSA_DHW                                41213 non-null  object \n",
            " 55  TSA_DHW_Standard_Deviation             41229 non-null  object \n",
            " 56  TSA_DHWMax                             41229 non-null  object \n",
            " 57  TSA_DHWMean                            41229 non-null  object \n",
            " 58  Date                                   41361 non-null  object \n",
            " 59  Site_Comments                          2257 non-null   object \n",
            " 60  Sample_Comments                        2958 non-null   object \n",
            " 61  Bleaching_Comments                     2669 non-null   object \n",
            "dtypes: float64(3), int64(5), object(54)\n",
            "memory usage: 19.6+ MB\n"
          ]
        }
      ],
      "source": [
        "df.info()"
      ]
    },
    {
      "cell_type": "code",
      "execution_count": null,
      "id": "30c1f4098202bb50",
      "metadata": {
        "ExecuteTime": {
          "end_time": "2024-03-22T05:22:06.791958100Z",
          "start_time": "2024-03-22T05:22:06.620219700Z"
        },
        "jupyter": {
          "outputs_hidden": false
        },
        "id": "30c1f4098202bb50",
        "outputId": "519aba29-419e-4da9-a8a9-251254ffdf6a"
      },
      "outputs": [
        {
          "data": {
            "text/plain": [
              "Index(['Site_ID', 'Sample_ID', 'Data_Source', 'Latitude_Degrees',\n",
              "       'Longitude_Degrees', 'Ocean_Name', 'Reef_ID', 'Realm_Name',\n",
              "       'Ecoregion_Name', 'Country_Name', 'State_Island_Province_Name',\n",
              "       'City_Town_Name', 'Site_Name', 'Distance_to_Shore', 'Exposure',\n",
              "       'Turbidity', 'Cyclone_Frequency', 'Date_Day', 'Date_Month', 'Date_Year',\n",
              "       'Depth_m', 'Substrate_Name', 'Percent_Cover', 'Bleaching_Level',\n",
              "       'Percent_Bleaching', 'ClimSST', 'Temperature_Kelvin',\n",
              "       'Temperature_Mean', 'Temperature_Minimum', 'Temperature_Maximum',\n",
              "       'Temperature_Kelvin_Standard_Deviation', 'Windspeed', 'SSTA',\n",
              "       'SSTA_Standard_Deviation', 'SSTA_Mean', 'SSTA_Minimum', 'SSTA_Maximum',\n",
              "       'SSTA_Frequency', 'SSTA_Frequency_Standard_Deviation',\n",
              "       'SSTA_FrequencyMax', 'SSTA_FrequencyMean', 'SSTA_DHW',\n",
              "       'SSTA_DHW_Standard_Deviation', 'SSTA_DHWMax', 'SSTA_DHWMean', 'TSA',\n",
              "       'TSA_Standard_Deviation', 'TSA_Minimum', 'TSA_Maximum', 'TSA_Mean',\n",
              "       'TSA_Frequency', 'TSA_Frequency_Standard_Deviation', 'TSA_FrequencyMax',\n",
              "       'TSA_FrequencyMean', 'TSA_DHW', 'TSA_DHW_Standard_Deviation',\n",
              "       'TSA_DHWMax', 'TSA_DHWMean', 'Date', 'Site_Comments', 'Sample_Comments',\n",
              "       'Bleaching_Comments'],\n",
              "      dtype='object')"
            ]
          },
          "execution_count": 8,
          "metadata": {},
          "output_type": "execute_result"
        }
      ],
      "source": [
        "df.columns"
      ]
    },
    {
      "cell_type": "code",
      "execution_count": null,
      "id": "5c32a9fe496dbbfc",
      "metadata": {
        "ExecuteTime": {
          "end_time": "2024-03-22T05:22:07.660810100Z",
          "start_time": "2024-03-22T05:22:06.738336400Z"
        },
        "jupyter": {
          "outputs_hidden": false
        },
        "id": "5c32a9fe496dbbfc"
      },
      "outputs": [],
      "source": [
        "# Dropping unnecessary columns with useless data or too many missing values\n",
        "\n",
        "drop_columns = [\n",
        "    'Reef_ID', 'Data_Source', 'Site_ID', 'Site_Name', 'Site_Comments', 'Sample_Comments', 'Bleaching_Comments', 'Bleaching_Level',\n",
        "    'Date_Day', 'Date_Month', 'Date_Year', 'Country_Name', 'State_Island_Province_Name', 'Temperature_Mean', 'Temperature_Minimum',\n",
        "    'Temperature_Maximum', 'Temperature_Kelvin_Standard_Deviation', 'SSTA_Standard_Deviation', 'SSTA_Mean', 'SSTA_Minimum',\n",
        "    'SSTA_Maximum', 'SSTA_Frequency', 'SSTA_Frequency_Standard_Deviation', 'SSTA_FrequencyMax', 'SSTA_FrequencyMean', 'SSTA_DHW',\n",
        "    'SSTA_DHW_Standard_Deviation', 'SSTA_DHWMax', 'SSTA_DHWMean', 'TSA_Standard_Deviation', 'TSA_Minimum', 'TSA_Maximum', 'TSA_Mean',\n",
        "    'TSA_Frequency', 'TSA_Frequency_Standard_Deviation', 'TSA_FrequencyMax', 'TSA_FrequencyMean', 'TSA_DHW', 'TSA_DHW_Standard_Deviation',\n",
        "    'TSA_DHWMax', 'TSA_DHWMean', 'Realm_Name', 'Ecoregion_Name', 'City_Town_Name', 'Substrate_Name',\n",
        "    'Percent_Cover', 'Depth_m', 'Sample_ID', 'SSTA', 'TSA', 'Windspeed'\n",
        "]\n",
        "for column in drop_columns:\n",
        "    if column in df.columns:\n",
        "        df.drop(column, axis=1, inplace=True)"
      ]
    },
    {
      "cell_type": "markdown",
      "id": "6e329d28-1015-44af-bc5e-54b865bb63d6",
      "metadata": {
        "id": "6e329d28-1015-44af-bc5e-54b865bb63d6"
      },
      "source": [
        " Checking for missing values"
      ]
    },
    {
      "cell_type": "code",
      "execution_count": null,
      "id": "ca5290b5e978be7c",
      "metadata": {
        "ExecuteTime": {
          "end_time": "2024-03-22T05:22:07.743173900Z",
          "start_time": "2024-03-22T05:22:07.666577700Z"
        },
        "jupyter": {
          "outputs_hidden": false
        },
        "id": "ca5290b5e978be7c",
        "outputId": "e946a890-0e3a-4bc7-f7b2-13c7f473aed6"
      },
      "outputs": [
        {
          "data": {
            "text/plain": [
              "Latitude_Degrees         0\n",
              "Longitude_Degrees        0\n",
              "Ocean_Name               0\n",
              "Distance_to_Shore        2\n",
              "Exposure                 0\n",
              "Turbidity                6\n",
              "Cyclone_Frequency        0\n",
              "Percent_Bleaching     6846\n",
              "ClimSST                113\n",
              "Temperature_Kelvin     148\n",
              "Date                     0\n",
              "dtype: int64"
            ]
          },
          "execution_count": 10,
          "metadata": {},
          "output_type": "execute_result"
        }
      ],
      "source": [
        "df.isna().sum()"
      ]
    },
    {
      "cell_type": "code",
      "execution_count": null,
      "id": "b5dc731771d961b0",
      "metadata": {
        "ExecuteTime": {
          "end_time": "2024-03-22T05:22:07.803323100Z",
          "start_time": "2024-03-22T05:22:07.711112400Z"
        },
        "jupyter": {
          "outputs_hidden": false
        },
        "id": "b5dc731771d961b0"
      },
      "outputs": [],
      "source": [
        "#Dropping rows containing missing values\n",
        "loc_columns = ['Ocean_Name', 'Percent_Bleaching']\n",
        "df.dropna(subset=loc_columns, inplace=True)"
      ]
    },
    {
      "cell_type": "code",
      "execution_count": null,
      "id": "a1cd3655f0268b49",
      "metadata": {
        "ExecuteTime": {
          "end_time": "2024-03-22T05:22:07.874077800Z",
          "start_time": "2024-03-22T05:22:07.763780300Z"
        },
        "jupyter": {
          "outputs_hidden": false
        },
        "id": "a1cd3655f0268b49",
        "outputId": "1d0456a5-63aa-4980-e630-7f1f0c504671"
      },
      "outputs": [
        {
          "data": {
            "text/plain": [
              "Latitude_Degrees        0\n",
              "Longitude_Degrees       0\n",
              "Ocean_Name              0\n",
              "Distance_to_Shore       2\n",
              "Exposure                0\n",
              "Turbidity               6\n",
              "Cyclone_Frequency       0\n",
              "Percent_Bleaching       0\n",
              "ClimSST                95\n",
              "Temperature_Kelvin    122\n",
              "Date                    0\n",
              "dtype: int64"
            ]
          },
          "execution_count": 12,
          "metadata": {},
          "output_type": "execute_result"
        }
      ],
      "source": [
        "df.isna().sum()"
      ]
    },
    {
      "cell_type": "code",
      "execution_count": null,
      "id": "90aebcd36a62fc25",
      "metadata": {
        "ExecuteTime": {
          "end_time": "2024-03-22T05:22:08.020420Z",
          "start_time": "2024-03-22T05:22:07.793119Z"
        },
        "jupyter": {
          "outputs_hidden": false
        },
        "id": "90aebcd36a62fc25",
        "outputId": "7964545d-d0a2-4ee9-db5b-2346da3fe76a"
      },
      "outputs": [
        {
          "name": "stderr",
          "output_type": "stream",
          "text": [
            "/tmp/ipykernel_4274/107439715.py:3: FutureWarning: DataFrame.fillna with 'method' is deprecated and will raise in a future version. Use obj.ffill() or obj.bfill() instead.\n",
            "  df[fill_columns] = df.groupby('Ocean_Name')[fill_columns].apply(lambda group: group.fillna(method='ffill')).reset_index(level=0, drop=True)\n",
            "/tmp/ipykernel_4274/107439715.py:4: FutureWarning: DataFrame.fillna with 'method' is deprecated and will raise in a future version. Use obj.ffill() or obj.bfill() instead.\n",
            "  df[fill_columns] = df.groupby('Ocean_Name')[fill_columns].apply(lambda group: group.fillna(method='bfill')).reset_index(level=0, drop=True)\n"
          ]
        },
        {
          "data": {
            "text/plain": [
              "Latitude_Degrees      0\n",
              "Longitude_Degrees     0\n",
              "Ocean_Name            0\n",
              "Distance_to_Shore     2\n",
              "Exposure              0\n",
              "Turbidity             0\n",
              "Cyclone_Frequency     0\n",
              "Percent_Bleaching     0\n",
              "ClimSST               0\n",
              "Temperature_Kelvin    0\n",
              "Date                  0\n",
              "dtype: int64"
            ]
          },
          "execution_count": 13,
          "metadata": {},
          "output_type": "execute_result"
        }
      ],
      "source": [
        "df = df.sort_values('Date')\n",
        "fill_columns = ['Ocean_Name', 'ClimSST', 'Temperature_Kelvin', 'Turbidity']\n",
        "df[fill_columns] = df.groupby('Ocean_Name')[fill_columns].apply(lambda group: group.fillna(method='ffill')).reset_index(level=0, drop=True)\n",
        "df[fill_columns] = df.groupby('Ocean_Name')[fill_columns].apply(lambda group: group.fillna(method='bfill')).reset_index(level=0, drop=True)\n",
        "df.isna().sum()"
      ]
    },
    {
      "cell_type": "code",
      "execution_count": null,
      "id": "b6b65051e2b9945a",
      "metadata": {
        "ExecuteTime": {
          "end_time": "2024-03-22T05:23:50.442197600Z",
          "start_time": "2024-03-22T05:23:50.271263100Z"
        },
        "jupyter": {
          "outputs_hidden": false
        },
        "id": "b6b65051e2b9945a"
      },
      "outputs": [],
      "source": [
        "df['Distance_to_Shore'] = pd.to_numeric(df['Distance_to_Shore'], errors='coerce')\n",
        "df['Distance_to_Shore'] = df['Distance_to_Shore'].fillna(value=df['Distance_to_Shore'].mean())"
      ]
    },
    {
      "cell_type": "code",
      "execution_count": null,
      "id": "abcbe3a83d860cb6",
      "metadata": {
        "ExecuteTime": {
          "end_time": "2024-03-22T05:23:50.510216700Z",
          "start_time": "2024-03-22T05:23:50.455350300Z"
        },
        "jupyter": {
          "outputs_hidden": false
        },
        "id": "abcbe3a83d860cb6",
        "outputId": "291be277-8ef6-40c2-c649-1aedec2a2660"
      },
      "outputs": [
        {
          "data": {
            "text/plain": [
              "Latitude_Degrees      0\n",
              "Longitude_Degrees     0\n",
              "Ocean_Name            0\n",
              "Distance_to_Shore     0\n",
              "Exposure              0\n",
              "Turbidity             0\n",
              "Cyclone_Frequency     0\n",
              "Percent_Bleaching     0\n",
              "ClimSST               0\n",
              "Temperature_Kelvin    0\n",
              "Date                  0\n",
              "dtype: int64"
            ]
          },
          "execution_count": 15,
          "metadata": {},
          "output_type": "execute_result"
        }
      ],
      "source": [
        "df.isna().sum()"
      ]
    },
    {
      "cell_type": "code",
      "execution_count": null,
      "id": "7c410698ca111a6b",
      "metadata": {
        "ExecuteTime": {
          "end_time": "2024-03-22T05:23:50.512864700Z",
          "start_time": "2024-03-22T05:23:50.486331100Z"
        },
        "jupyter": {
          "outputs_hidden": false
        },
        "id": "7c410698ca111a6b",
        "outputId": "05d8e2de-5045-458b-f463-e19a0c69d814"
      },
      "outputs": [
        {
          "data": {
            "text/plain": [
              "Latitude_Degrees      float64\n",
              "Longitude_Degrees     float64\n",
              "Ocean_Name             object\n",
              "Distance_to_Shore     float64\n",
              "Exposure               object\n",
              "Turbidity              object\n",
              "Cyclone_Frequency     float64\n",
              "Percent_Bleaching      object\n",
              "ClimSST                object\n",
              "Temperature_Kelvin     object\n",
              "Date                   object\n",
              "dtype: object"
            ]
          },
          "execution_count": 16,
          "metadata": {},
          "output_type": "execute_result"
        }
      ],
      "source": [
        "df.dtypes"
      ]
    },
    {
      "cell_type": "code",
      "execution_count": null,
      "id": "46293a5c-7c52-4b01-9f60-e3d185a9d620",
      "metadata": {
        "id": "46293a5c-7c52-4b01-9f60-e3d185a9d620"
      },
      "outputs": [],
      "source": [
        "le = LabelEncoder()"
      ]
    },
    {
      "cell_type": "code",
      "execution_count": null,
      "id": "8654ff32",
      "metadata": {
        "id": "8654ff32"
      },
      "outputs": [],
      "source": [
        "cat_columns = ['Ocean_Name', 'Exposure']\n",
        "for column in cat_columns:\n",
        "    df[column] = le.fit_transform(df[column])"
      ]
    },
    {
      "cell_type": "code",
      "execution_count": null,
      "id": "9d46a2ac",
      "metadata": {
        "id": "9d46a2ac"
      },
      "outputs": [],
      "source": [
        "object_columns = ['ClimSST', 'Temperature_Kelvin', 'Turbidity', 'Percent_Bleaching']\n",
        "for column in object_columns:\n",
        "    df[column] = pd.to_numeric(df[column], errors='coerce')"
      ]
    },
    {
      "cell_type": "code",
      "execution_count": null,
      "id": "ccc8be7e",
      "metadata": {
        "id": "ccc8be7e"
      },
      "outputs": [],
      "source": [
        "df['Date'] = pd.to_datetime(df['Date'])"
      ]
    },
    {
      "cell_type": "code",
      "execution_count": null,
      "id": "7be4610f",
      "metadata": {
        "id": "7be4610f",
        "outputId": "2820e58e-bbac-46fb-bddc-f396fe3fd923"
      },
      "outputs": [
        {
          "data": {
            "text/plain": [
              "Latitude_Degrees             float64\n",
              "Longitude_Degrees            float64\n",
              "Ocean_Name                     int64\n",
              "Distance_to_Shore            float64\n",
              "Exposure                       int64\n",
              "Turbidity                    float64\n",
              "Cyclone_Frequency            float64\n",
              "Percent_Bleaching            float64\n",
              "ClimSST                      float64\n",
              "Temperature_Kelvin           float64\n",
              "Date                  datetime64[ns]\n",
              "dtype: object"
            ]
          },
          "execution_count": 21,
          "metadata": {},
          "output_type": "execute_result"
        }
      ],
      "source": [
        "df.dtypes"
      ]
    },
    {
      "cell_type": "code",
      "execution_count": null,
      "id": "bfc8b8b7",
      "metadata": {
        "scrolled": true,
        "id": "bfc8b8b7",
        "outputId": "9a5e2624-4362-4f39-bb72-bcf47d83cba4"
      },
      "outputs": [
        {
          "data": {
            "text/html": [
              "<div>\n",
              "<style scoped>\n",
              "    .dataframe tbody tr th:only-of-type {\n",
              "        vertical-align: middle;\n",
              "    }\n",
              "\n",
              "    .dataframe tbody tr th {\n",
              "        vertical-align: top;\n",
              "    }\n",
              "\n",
              "    .dataframe thead th {\n",
              "        text-align: right;\n",
              "    }\n",
              "</style>\n",
              "<table border=\"1\" class=\"dataframe\">\n",
              "  <thead>\n",
              "    <tr style=\"text-align: right;\">\n",
              "      <th></th>\n",
              "      <th>Latitude_Degrees</th>\n",
              "      <th>Longitude_Degrees</th>\n",
              "      <th>Ocean_Name</th>\n",
              "      <th>Distance_to_Shore</th>\n",
              "      <th>Exposure</th>\n",
              "      <th>Turbidity</th>\n",
              "      <th>Cyclone_Frequency</th>\n",
              "      <th>Percent_Bleaching</th>\n",
              "      <th>ClimSST</th>\n",
              "      <th>Temperature_Kelvin</th>\n",
              "      <th>Date</th>\n",
              "    </tr>\n",
              "  </thead>\n",
              "  <tbody>\n",
              "    <tr>\n",
              "      <th>1402</th>\n",
              "      <td>-27.1667</td>\n",
              "      <td>-109.3333</td>\n",
              "      <td>3</td>\n",
              "      <td>1579.03</td>\n",
              "      <td>0</td>\n",
              "      <td>0.0214</td>\n",
              "      <td>50.08</td>\n",
              "      <td>75.0</td>\n",
              "      <td>294.65</td>\n",
              "      <td>303.27</td>\n",
              "      <td>1980-06-15</td>\n",
              "    </tr>\n",
              "    <tr>\n",
              "      <th>3748</th>\n",
              "      <td>-27.1000</td>\n",
              "      <td>-109.3000</td>\n",
              "      <td>3</td>\n",
              "      <td>442.79</td>\n",
              "      <td>0</td>\n",
              "      <td>0.0219</td>\n",
              "      <td>50.08</td>\n",
              "      <td>30.5</td>\n",
              "      <td>262.15</td>\n",
              "      <td>303.27</td>\n",
              "      <td>1980-06-15</td>\n",
              "    </tr>\n",
              "    <tr>\n",
              "      <th>1736</th>\n",
              "      <td>7.8128</td>\n",
              "      <td>-81.7597</td>\n",
              "      <td>3</td>\n",
              "      <td>8.27</td>\n",
              "      <td>1</td>\n",
              "      <td>0.0537</td>\n",
              "      <td>50.00</td>\n",
              "      <td>75.0</td>\n",
              "      <td>302.02</td>\n",
              "      <td>303.27</td>\n",
              "      <td>1983-01-15</td>\n",
              "    </tr>\n",
              "    <tr>\n",
              "      <th>1737</th>\n",
              "      <td>7.8550</td>\n",
              "      <td>-82.0125</td>\n",
              "      <td>3</td>\n",
              "      <td>9816.94</td>\n",
              "      <td>0</td>\n",
              "      <td>0.0672</td>\n",
              "      <td>49.89</td>\n",
              "      <td>75.0</td>\n",
              "      <td>302.17</td>\n",
              "      <td>303.19</td>\n",
              "      <td>1983-01-15</td>\n",
              "    </tr>\n",
              "    <tr>\n",
              "      <th>1415</th>\n",
              "      <td>5.5500</td>\n",
              "      <td>-87.0600</td>\n",
              "      <td>3</td>\n",
              "      <td>91.97</td>\n",
              "      <td>0</td>\n",
              "      <td>0.0404</td>\n",
              "      <td>49.74</td>\n",
              "      <td>75.0</td>\n",
              "      <td>300.97</td>\n",
              "      <td>302.82</td>\n",
              "      <td>1983-01-15</td>\n",
              "    </tr>\n",
              "  </tbody>\n",
              "</table>\n",
              "</div>"
            ],
            "text/plain": [
              "      Latitude_Degrees  Longitude_Degrees  Ocean_Name  Distance_to_Shore  \\\n",
              "1402          -27.1667          -109.3333           3            1579.03   \n",
              "3748          -27.1000          -109.3000           3             442.79   \n",
              "1736            7.8128           -81.7597           3               8.27   \n",
              "1737            7.8550           -82.0125           3            9816.94   \n",
              "1415            5.5500           -87.0600           3              91.97   \n",
              "\n",
              "      Exposure  Turbidity  Cyclone_Frequency  Percent_Bleaching  ClimSST  \\\n",
              "1402         0     0.0214              50.08               75.0   294.65   \n",
              "3748         0     0.0219              50.08               30.5   262.15   \n",
              "1736         1     0.0537              50.00               75.0   302.02   \n",
              "1737         0     0.0672              49.89               75.0   302.17   \n",
              "1415         0     0.0404              49.74               75.0   300.97   \n",
              "\n",
              "      Temperature_Kelvin       Date  \n",
              "1402              303.27 1980-06-15  \n",
              "3748              303.27 1980-06-15  \n",
              "1736              303.27 1983-01-15  \n",
              "1737              303.19 1983-01-15  \n",
              "1415              302.82 1983-01-15  "
            ]
          },
          "execution_count": 22,
          "metadata": {},
          "output_type": "execute_result"
        }
      ],
      "source": [
        "df.head()"
      ]
    },
    {
      "cell_type": "code",
      "execution_count": null,
      "id": "c9944511",
      "metadata": {
        "id": "c9944511"
      },
      "outputs": [],
      "source": [
        "# Applying Z-Score Normalization\n",
        "norm_columns = ['Distance_to_Shore', 'Cyclone_Frequency']\n",
        "for column in norm_columns:\n",
        "    df[column] = (df[column] - df[column].mean())/df[column].std()"
      ]
    },
    {
      "cell_type": "code",
      "execution_count": null,
      "id": "534a4a1a",
      "metadata": {
        "id": "534a4a1a",
        "outputId": "308d4fef-ae44-45f3-dc6e-40f5a2267e67"
      },
      "outputs": [
        {
          "data": {
            "text/html": [
              "<div>\n",
              "<style scoped>\n",
              "    .dataframe tbody tr th:only-of-type {\n",
              "        vertical-align: middle;\n",
              "    }\n",
              "\n",
              "    .dataframe tbody tr th {\n",
              "        vertical-align: top;\n",
              "    }\n",
              "\n",
              "    .dataframe thead th {\n",
              "        text-align: right;\n",
              "    }\n",
              "</style>\n",
              "<table border=\"1\" class=\"dataframe\">\n",
              "  <thead>\n",
              "    <tr style=\"text-align: right;\">\n",
              "      <th></th>\n",
              "      <th>Latitude_Degrees</th>\n",
              "      <th>Longitude_Degrees</th>\n",
              "      <th>Ocean_Name</th>\n",
              "      <th>Distance_to_Shore</th>\n",
              "      <th>Exposure</th>\n",
              "      <th>Turbidity</th>\n",
              "      <th>Cyclone_Frequency</th>\n",
              "      <th>Percent_Bleaching</th>\n",
              "      <th>ClimSST</th>\n",
              "      <th>Temperature_Kelvin</th>\n",
              "      <th>Date</th>\n",
              "    </tr>\n",
              "  </thead>\n",
              "  <tbody>\n",
              "    <tr>\n",
              "      <th>1402</th>\n",
              "      <td>-27.1667</td>\n",
              "      <td>-109.3333</td>\n",
              "      <td>3</td>\n",
              "      <td>-0.156378</td>\n",
              "      <td>0</td>\n",
              "      <td>0.0214</td>\n",
              "      <td>-0.295501</td>\n",
              "      <td>75.0</td>\n",
              "      <td>294.65</td>\n",
              "      <td>303.27</td>\n",
              "      <td>1980-06-15</td>\n",
              "    </tr>\n",
              "    <tr>\n",
              "      <th>3748</th>\n",
              "      <td>-27.1000</td>\n",
              "      <td>-109.3000</td>\n",
              "      <td>3</td>\n",
              "      <td>-0.241273</td>\n",
              "      <td>0</td>\n",
              "      <td>0.0219</td>\n",
              "      <td>-0.295501</td>\n",
              "      <td>30.5</td>\n",
              "      <td>262.15</td>\n",
              "      <td>303.27</td>\n",
              "      <td>1980-06-15</td>\n",
              "    </tr>\n",
              "    <tr>\n",
              "      <th>1736</th>\n",
              "      <td>7.8128</td>\n",
              "      <td>-81.7597</td>\n",
              "      <td>3</td>\n",
              "      <td>-0.273738</td>\n",
              "      <td>1</td>\n",
              "      <td>0.0537</td>\n",
              "      <td>-0.306031</td>\n",
              "      <td>75.0</td>\n",
              "      <td>302.02</td>\n",
              "      <td>303.27</td>\n",
              "      <td>1983-01-15</td>\n",
              "    </tr>\n",
              "    <tr>\n",
              "      <th>1737</th>\n",
              "      <td>7.8550</td>\n",
              "      <td>-82.0125</td>\n",
              "      <td>3</td>\n",
              "      <td>0.459121</td>\n",
              "      <td>0</td>\n",
              "      <td>0.0672</td>\n",
              "      <td>-0.320509</td>\n",
              "      <td>75.0</td>\n",
              "      <td>302.17</td>\n",
              "      <td>303.19</td>\n",
              "      <td>1983-01-15</td>\n",
              "    </tr>\n",
              "    <tr>\n",
              "      <th>1415</th>\n",
              "      <td>5.5500</td>\n",
              "      <td>-87.0600</td>\n",
              "      <td>3</td>\n",
              "      <td>-0.267485</td>\n",
              "      <td>0</td>\n",
              "      <td>0.0404</td>\n",
              "      <td>-0.340252</td>\n",
              "      <td>75.0</td>\n",
              "      <td>300.97</td>\n",
              "      <td>302.82</td>\n",
              "      <td>1983-01-15</td>\n",
              "    </tr>\n",
              "  </tbody>\n",
              "</table>\n",
              "</div>"
            ],
            "text/plain": [
              "      Latitude_Degrees  Longitude_Degrees  Ocean_Name  Distance_to_Shore  \\\n",
              "1402          -27.1667          -109.3333           3          -0.156378   \n",
              "3748          -27.1000          -109.3000           3          -0.241273   \n",
              "1736            7.8128           -81.7597           3          -0.273738   \n",
              "1737            7.8550           -82.0125           3           0.459121   \n",
              "1415            5.5500           -87.0600           3          -0.267485   \n",
              "\n",
              "      Exposure  Turbidity  Cyclone_Frequency  Percent_Bleaching  ClimSST  \\\n",
              "1402         0     0.0214          -0.295501               75.0   294.65   \n",
              "3748         0     0.0219          -0.295501               30.5   262.15   \n",
              "1736         1     0.0537          -0.306031               75.0   302.02   \n",
              "1737         0     0.0672          -0.320509               75.0   302.17   \n",
              "1415         0     0.0404          -0.340252               75.0   300.97   \n",
              "\n",
              "      Temperature_Kelvin       Date  \n",
              "1402              303.27 1980-06-15  \n",
              "3748              303.27 1980-06-15  \n",
              "1736              303.27 1983-01-15  \n",
              "1737              303.19 1983-01-15  \n",
              "1415              302.82 1983-01-15  "
            ]
          },
          "execution_count": 24,
          "metadata": {},
          "output_type": "execute_result"
        }
      ],
      "source": [
        "df.head()"
      ]
    }
  ],
  "metadata": {
    "kernelspec": {
      "display_name": "Python 3 (ipykernel)",
      "language": "python",
      "name": "python3"
    },
    "language_info": {
      "codemirror_mode": {
        "name": "ipython",
        "version": 3
      },
      "file_extension": ".py",
      "mimetype": "text/x-python",
      "name": "python",
      "nbconvert_exporter": "python",
      "pygments_lexer": "ipython3",
      "version": "3.11.7"
    },
    "colab": {
      "provenance": []
    }
  },
  "nbformat": 4,
  "nbformat_minor": 5
}